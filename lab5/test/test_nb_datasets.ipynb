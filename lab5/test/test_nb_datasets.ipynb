{
 "cells": [
  {
   "cell_type": "code",
   "execution_count": 54,
   "metadata": {},
   "outputs": [],
   "source": [
    "import numpy as np\n",
    "from sklearn.linear_model import LinearRegression\n",
    "from sklearn.metrics import mean_squared_error\n",
    "\n",
    "\n",
    "# Функция для генерации данных\n",
    "def generate_data(n_samples, noise_factor=0.0):\n",
    "    X = np.random.rand(n_samples, 1) * 10\n",
    "    y = 2 * X.squeeze() + 3 + np.random.randn(n_samples) * noise_factor\n",
    "    return X, y\n",
    "\n",
    "\n",
    "# Функция для тестирования модели\n",
    "def check_model(X_test, y_test, model):\n",
    "    y_pred = model.predict(X_test)\n",
    "    return mean_squared_error(y_test, y_pred)\n",
    "\n",
    "\n",
    "# Функция для тестирования модели с выводом информации о датасете\n",
    "def test_model_performance():\n",
    "    # Создание модели линейной регрессии\n",
    "    model = LinearRegression()\n",
    "\n",
    "    # Генерация трех датасетов с качественными данными и шумового датасета\n",
    "    quality_datasets = [generate_data(100, noise_factor=0.5) for _ in range(3)]\n",
    "    noisy_dataset = generate_data(100, noise_factor=5)\n",
    "\n",
    "    # Обучение модели на одном из датасетов с качественными данными\n",
    "    model.fit(*quality_datasets[0])\n",
    "\n",
    "    # Вычисление максимального MSE на качественных данных\n",
    "    max_mse_quality = max(mean_squared_error(y, model.predict(X)) for X, y in quality_datasets)\n",
    "\n",
    "    # Функция для проверки MSE каждого датасета\n",
    "    def check_mse(X_test, y_test, dataset_name):\n",
    "        mse = check_model(X_test, y_test, model)\n",
    "        assert mse <= max_mse_quality, f\"Датасет {dataset_name} является шумовым: MSE: {mse}\"\n",
    "\n",
    "    # Проверяем MSE для каждого датасета\n",
    "    for idx, (X, y) in enumerate(quality_datasets, start=1):\n",
    "        check_mse(X, y, f\"датасет {idx}\")\n",
    "    check_mse(*noisy_dataset, \"датасет 4\")"
   ]
  },
  {
   "cell_type": "code",
   "execution_count": 55,
   "metadata": {},
   "outputs": [
    {
     "name": "stdout",
     "output_type": "stream",
     "text": [
      "\u001b[1m============================= test session starts =============================\u001b[0m\n",
      "platform win32 -- Python 3.9.13, pytest-8.3.5, pluggy-1.5.0\n",
      "rootdir: c:\\py_projects\\urfu\\MLOps_Lab\\lab5\\test\n",
      "collected 0 items / 1 error\n",
      "\n",
      "=================================== ERRORS ====================================\n",
      "\u001b[31m\u001b[1m______________________ ERROR collecting test_recorded.py ______________________\u001b[0m\n",
      "\u001b[31m\u001b[1m\u001b[31m..\\..\\.venv\\lib\\site-packages\\_pytest\\python.py\u001b[0m:493: in importtestmodule\n",
      "    \u001b[0mmod = import_path(\u001b[90m\u001b[39;49;00m\n",
      "\u001b[1m\u001b[31m..\\..\\.venv\\lib\\site-packages\\_pytest\\pathlib.py\u001b[0m:587: in import_path\n",
      "    \u001b[0mimportlib.import_module(module_name)\u001b[90m\u001b[39;49;00m\n",
      "\u001b[1m\u001b[31mC:\\Users\\Pc\\AppData\\Local\\Programs\\Python\\Python39\\lib\\importlib\\__init__.py\u001b[0m:127: in import_module\n",
      "    \u001b[0m\u001b[94mreturn\u001b[39;49;00m _bootstrap._gcd_import(name[level:], package, level)\u001b[90m\u001b[39;49;00m\n",
      "\u001b[1m\u001b[31m<frozen importlib._bootstrap>\u001b[0m:1030: in _gcd_import\n",
      "    \u001b[0m\u001b[04m\u001b[91m?\u001b[39;49;00m\u001b[04m\u001b[91m?\u001b[39;49;00m\u001b[04m\u001b[91m?\u001b[39;49;00m\u001b[90m\u001b[39;49;00m\n",
      "\u001b[1m\u001b[31m<frozen importlib._bootstrap>\u001b[0m:1007: in _find_and_load\n",
      "    \u001b[0m\u001b[04m\u001b[91m?\u001b[39;49;00m\u001b[04m\u001b[91m?\u001b[39;49;00m\u001b[04m\u001b[91m?\u001b[39;49;00m\u001b[90m\u001b[39;49;00m\n",
      "\u001b[1m\u001b[31m<frozen importlib._bootstrap>\u001b[0m:986: in _find_and_load_unlocked\n",
      "    \u001b[0m\u001b[04m\u001b[91m?\u001b[39;49;00m\u001b[04m\u001b[91m?\u001b[39;49;00m\u001b[04m\u001b[91m?\u001b[39;49;00m\u001b[90m\u001b[39;49;00m\n",
      "\u001b[1m\u001b[31m<frozen importlib._bootstrap>\u001b[0m:680: in _load_unlocked\n",
      "    \u001b[0m\u001b[04m\u001b[91m?\u001b[39;49;00m\u001b[04m\u001b[91m?\u001b[39;49;00m\u001b[04m\u001b[91m?\u001b[39;49;00m\u001b[90m\u001b[39;49;00m\n",
      "\u001b[1m\u001b[31m..\\..\\.venv\\lib\\site-packages\\_pytest\\assertion\\rewrite.py\u001b[0m:176: in exec_module\n",
      "    \u001b[0msource_stat, co = _rewrite_test(fn, \u001b[96mself\u001b[39;49;00m.config)\u001b[90m\u001b[39;49;00m\n",
      "\u001b[1m\u001b[31m..\\..\\.venv\\lib\\site-packages\\_pytest\\assertion\\rewrite.py\u001b[0m:356: in _rewrite_test\n",
      "    \u001b[0mtree = ast.parse(source, filename=strfn)\u001b[90m\u001b[39;49;00m\n",
      "\u001b[1m\u001b[31mC:\\Users\\Pc\\AppData\\Local\\Programs\\Python\\Python39\\lib\\ast.py\u001b[0m:50: in parse\n",
      "    \u001b[0m\u001b[94mreturn\u001b[39;49;00m \u001b[96mcompile\u001b[39;49;00m(source, filename, mode, flags,\u001b[90m\u001b[39;49;00m\n",
      "\u001b[1m\u001b[31mE     File \"c:\\py_projects\\urfu\\MLOps_Lab\\lab5\\test\\test_recorded.py\", line 1\u001b[0m\n",
      "\u001b[1m\u001b[31mE       %%writefile test_recorded.py\u001b[0m\n",
      "\u001b[1m\u001b[31mE       ^\u001b[0m\n",
      "\u001b[1m\u001b[31mE   SyntaxError: invalid syntax\u001b[0m\u001b[0m\n",
      "\u001b[36m\u001b[1m=========================== short test summary info ===========================\u001b[0m\n",
      "\u001b[31mERROR\u001b[0m test_recorded.py\n",
      "!!!!!!!!!!!!!!!!!!! Interrupted: 1 error during collection !!!!!!!!!!!!!!!!!!!!\n",
      "\u001b[31m============================== \u001b[31m\u001b[1m1 error\u001b[0m\u001b[31m in 0.32s\u001b[0m\u001b[31m ===============================\u001b[0m\n"
     ]
    }
   ],
   "source": [
    "# Запуск тестов через pytest\n",
    "!pytest test_recorded.py"
   ]
  }
 ],
 "metadata": {
  "kernelspec": {
   "display_name": ".venv",
   "language": "python",
   "name": "python3"
  },
  "language_info": {
   "codemirror_mode": {
    "name": "ipython",
    "version": 3
   },
   "file_extension": ".py",
   "mimetype": "text/x-python",
   "name": "python",
   "nbconvert_exporter": "python",
   "pygments_lexer": "ipython3",
   "version": "3.9.13"
  }
 },
 "nbformat": 4,
 "nbformat_minor": 2
}
