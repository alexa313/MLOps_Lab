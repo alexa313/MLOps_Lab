{
 "cells": [
  {
   "cell_type": "code",
   "execution_count": null,
   "metadata": {
    "vscode": {
     "languageId": "plaintext"
    }
   },
   "outputs": [],
   "source": [
    "# Импортирование библиотек\n",
    "import numpy as np\n",
    "import matplotlib.pyplot as plt\n",
    "from sklearn.linear_model import LinearRegression\n",
    "from sklearn.metrics import mean_squared_error\n",
    "import pytest"
   ]
  },
  {
   "cell_type": "code",
   "execution_count": null,
   "metadata": {
    "vscode": {
     "languageId": "plaintext"
    }
   },
   "outputs": [],
   "source": [
    "# Функция для генерации качественных данных\n",
    "def generate_quality_data(n_samples):\n",
    "    X = np.random.rand(n_samples, 1) * 10\n",
    "    y = 2 * X.squeeze() + 3 + np.random.normal(0, 1, n_samples)  # добавляем шум\n",
    "    return X, y"
   ]
  },
  {
   "cell_type": "code",
   "execution_count": null,
   "metadata": {
    "vscode": {
     "languageId": "plaintext"
    }
   },
   "outputs": [],
   "source": [
    "# Генерация и отображение качественных датасетов\n",
    "quality_datasets = [generate_quality_data(100) for _ in range(3)]\n",
    "for idx, (X, y) in enumerate(quality_datasets):\n",
    "    plt.scatter(X, y, label=f'Датасет {idx + 1}')\n",
    "plt.title('Качественные датасеты')\n",
    "plt.xlabel('X')\n",
    "plt.ylabel('Y')\n",
    "plt.legend()\n",
    "plt.show()"
   ]
  },
  {
   "cell_type": "code",
   "execution_count": null,
   "metadata": {
    "vscode": {
     "languageId": "plaintext"
    }
   },
   "outputs": [],
   "source": [
    "# Функция для генерации зашумленных данных\n",
    "def generate_noisy_data(n_samples):\n",
    "    X = np.random.rand(n_samples, 1) * 10\n",
    "    y = 2 * X.squeeze() + 3 + np.random.normal(0, 5, n_samples)  # увеличенный шум\n",
    "    return X, y"
   ]
  },
  {
   "cell_type": "code",
   "execution_count": null,
   "metadata": {
    "vscode": {
     "languageId": "plaintext"
    }
   },
   "outputs": [],
   "source": [
    "# Генерация и отображение зашумленного датасета\n",
    "noisy_dataset = generate_noisy_data(100)\n",
    "plt.scatter(*noisy_dataset, color='red')\n",
    "plt.title('Зашумленный датасет')\n",
    "plt.xlabel('X')\n",
    "plt.ylabel('Y')\n",
    "plt.show()"
   ]
  },
  {
   "cell_type": "code",
   "execution_count": null,
   "metadata": {
    "vscode": {
     "languageId": "plaintext"
    }
   },
   "outputs": [],
   "source": [
    "# Обучение модели линейной регрессии\n",
    "model = LinearRegression()\n",
    "model.fit(*quality_datasets[0])"
   ]
  },
  {
   "cell_type": "code",
   "execution_count": null,
   "metadata": {
    "vscode": {
     "languageId": "plaintext"
    }
   },
   "outputs": [],
   "source": [
    "# Запуск тестов в виде .py файла\n",
    "!pytest test/test_def_datasets.py"
   ]
  }
 ],
 "metadata": {
  "language_info": {
   "name": "python"
  }
 },
 "nbformat": 4,
 "nbformat_minor": 2
}
